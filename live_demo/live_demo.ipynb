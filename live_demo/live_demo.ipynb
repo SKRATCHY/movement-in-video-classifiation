{
 "cells": [
  {
   "cell_type": "markdown",
   "metadata": {},
   "source": [
    "# Live Demo"
   ]
  },
  {
   "cell_type": "markdown",
   "metadata": {},
   "source": [
    "## Library imports"
   ]
  },
  {
   "cell_type": "markdown",
   "metadata": {},
   "source": [
    "### External Libraries"
   ]
  },
  {
   "cell_type": "code",
   "execution_count": null,
   "metadata": {},
   "outputs": [],
   "source": [
    "import pandas as pd\n",
    "import cv2\n",
    "import plotly.graph_objects as go\n",
    "import ruptures as rpt\n",
    "import numpy as np\n",
    "import statistics\n",
    "\n",
    "#Offline plotly\n",
    "import plotly.offline as pyo\n",
    "pyo.init_notebook_mode()"
   ]
  },
  {
   "cell_type": "markdown",
   "metadata": {},
   "source": [
    "### Sweatworks Libraries"
   ]
  },
  {
   "cell_type": "code",
   "execution_count": null,
   "metadata": {},
   "outputs": [],
   "source": [
    "import S3conn # Interaction between S3 bucket and script\n",
    "from angles_detection import generate_angles_output_with_time # Calculating angles for each frame in video\n",
    "import get_peaks # Exercise states(Limits positions of a given exercise) identification"
   ]
  },
  {
   "attachments": {},
   "cell_type": "markdown",
   "metadata": {},
   "source": [
    "## Angles Detection"
   ]
  },
  {
   "cell_type": "markdown",
   "metadata": {},
   "source": [
    "### Reading video and calculating angles in each frame"
   ]
  },
  {
   "cell_type": "code",
   "execution_count": null,
   "metadata": {},
   "outputs": [],
   "source": [
    "from IPython.display import Image, Video"
   ]
  },
  {
   "cell_type": "code",
   "execution_count": null,
   "metadata": {},
   "outputs": [],
   "source": [
    "#video = \"../testVideos/IMG_0358.MOV\"\n",
    "#video = \"out of shape Dami.mp4\"\n",
    "video = \"trim5882CE12-9588-4F74-9283-966C44E85B92.MOV\""
   ]
  },
  {
   "cell_type": "code",
   "execution_count": null,
   "metadata": {},
   "outputs": [],
   "source": [
    "Video(video)"
   ]
  },
  {
   "cell_type": "code",
   "execution_count": null,
   "metadata": {},
   "outputs": [],
   "source": [
    "\n",
    "Image(filename='pose_tracking_full_body_landmarks.png') "
   ]
  },
  {
   "cell_type": "code",
   "execution_count": null,
   "metadata": {},
   "outputs": [],
   "source": [
    "angles = pd.DataFrame(generate_angles_output_with_time(cv2.VideoCapture(video)))"
   ]
  },
  {
   "cell_type": "code",
   "execution_count": null,
   "metadata": {},
   "outputs": [],
   "source": [
    "#angles.to_csv(\"test_angesl.csv\", index = False)\n",
    "angles = pd.read_csv(\"test_angesl.csv\")"
   ]
  },
  {
   "cell_type": "markdown",
   "metadata": {},
   "source": [
    "#### Output from angles detection"
   ]
  },
  {
   "cell_type": "code",
   "execution_count": null,
   "metadata": {},
   "outputs": [],
   "source": [
    "angles"
   ]
  },
  {
   "cell_type": "code",
   "execution_count": null,
   "metadata": {},
   "outputs": [],
   "source": [
    "# Calculating y axis of the motion wave ( avg(back_angles) + avg(leg_angles) + avg(arm_angles) )\n",
    "angles[\"avg_angles\"] = get_peaks.calculate_avg_angles(angles)"
   ]
  },
  {
   "cell_type": "markdown",
   "metadata": {},
   "source": [
    "#### Angles combination output. It's the last column"
   ]
  },
  {
   "cell_type": "code",
   "execution_count": null,
   "metadata": {},
   "outputs": [],
   "source": [
    "angles"
   ]
  },
  {
   "cell_type": "code",
   "execution_count": null,
   "metadata": {},
   "outputs": [],
   "source": [
    "angles = angles.sort_values(by=\"time\").reset_index(drop=True)"
   ]
  },
  {
   "cell_type": "code",
   "execution_count": null,
   "metadata": {},
   "outputs": [],
   "source": [
    "angles"
   ]
  },
  {
   "cell_type": "code",
   "execution_count": null,
   "metadata": {},
   "outputs": [],
   "source": [
    "fig = go.Figure()\n",
    "fig.add_scatter(x = angles.time/1000, y = angles.avg_angles)"
   ]
  },
  {
   "attachments": {},
   "cell_type": "markdown",
   "metadata": {},
   "source": [
    "# Ruptures"
   ]
  },
  {
   "attachments": {},
   "cell_type": "markdown",
   "metadata": {},
   "source": [
    "## Calculating exercise changes for a new video"
   ]
  },
  {
   "cell_type": "code",
   "execution_count": null,
   "metadata": {},
   "outputs": [],
   "source": [
    "algorithm = rpt.Pelt(model=\"rbf\").fit(pd.DataFrame(angles.avg_angles))\n",
    "result = algorithm.predict(pen=20) "
   ]
  },
  {
   "cell_type": "code",
   "execution_count": null,
   "metadata": {},
   "outputs": [],
   "source": [
    "angles[\"breaks\"] = 0\n",
    "for i in result:\n",
    "    if i < angles.shape[0]:\n",
    "        angles[\"breaks\"][i] = 1"
   ]
  },
  {
   "cell_type": "code",
   "execution_count": null,
   "metadata": {},
   "outputs": [],
   "source": [
    "fig = go.Figure()\n",
    "fig.add_scatter(x = angles.index, y = angles.avg_angles)\n",
    "for i in angles[angles.breaks == 1].index:\n",
    "    fig.add_vline(i)\n",
    "fig.show()"
   ]
  },
  {
   "attachments": {},
   "cell_type": "markdown",
   "metadata": {},
   "source": [
    "## Listing all tested videos already uploaded into S3 (Angles and ruptures)"
   ]
  },
  {
   "cell_type": "code",
   "execution_count": null,
   "metadata": {},
   "outputs": [],
   "source": [
    "#Reading all s3 files ending with \"angles.csv\"\n",
    "files = S3conn.find_files(\"angles.csv\")"
   ]
  },
  {
   "cell_type": "code",
   "execution_count": null,
   "metadata": {},
   "outputs": [],
   "source": [
    "#Listing all files found with their vector number\n",
    "for i in range(len(files)):\n",
    "    print(i, \" \", files[i])"
   ]
  },
  {
   "attachments": {},
   "cell_type": "markdown",
   "metadata": {},
   "source": [
    "## Plotting different Motion waves"
   ]
  },
  {
   "cell_type": "markdown",
   "metadata": {},
   "source": [
    "### Loading a csv from previously processed videos"
   ]
  },
  {
   "cell_type": "code",
   "execution_count": null,
   "metadata": {},
   "outputs": [],
   "source": [
    "#Reading angles number\n",
    "datos = S3conn.get_csv(files[3])\n",
    "angles = datos"
   ]
  },
  {
   "cell_type": "code",
   "execution_count": null,
   "metadata": {},
   "outputs": [],
   "source": [
    "angles"
   ]
  },
  {
   "cell_type": "markdown",
   "metadata": {},
   "source": [
    "### Creating and showing chart with motion wave and exercise changes"
   ]
  },
  {
   "cell_type": "code",
   "execution_count": null,
   "metadata": {},
   "outputs": [],
   "source": [
    "fig = go.Figure()\n",
    "fig.add_scatter(x = (datos[\"time\"]/1000), y = datos[\"avg_angles\"], mode = \"markers+lines\")\n",
    "fig.show()"
   ]
  },
  {
   "cell_type": "code",
   "execution_count": null,
   "metadata": {},
   "outputs": [],
   "source": [
    "fig = go.Figure()\n",
    "fig.add_scatter(x = (datos[\"time\"]/1000), y = datos[\"avg_angles\"], mode = \"lines\")\n",
    "fig.show()"
   ]
  },
  {
   "cell_type": "code",
   "execution_count": null,
   "metadata": {},
   "outputs": [],
   "source": [
    "fig = go.Figure()\n",
    "fig.add_scatter(x = (datos[\"time\"]/1000), y = datos[\"avg_angles\"], mode = \"lines\")\n",
    "for i in datos.loc[datos.breaks == 1].index:\n",
    "    fig.add_vline(x = datos.iloc[i][\"time\"]/1000)\n",
    "fig.show()"
   ]
  },
  {
   "attachments": {},
   "cell_type": "markdown",
   "metadata": {},
   "source": [
    "# Exercise Detection"
   ]
  },
  {
   "cell_type": "code",
   "execution_count": null,
   "metadata": {},
   "outputs": [],
   "source": [
    "import pickle\n",
    "import tensorflow as tf"
   ]
  },
  {
   "cell_type": "code",
   "execution_count": null,
   "metadata": {},
   "outputs": [],
   "source": [
    "dnn_model = tf.keras.models.load_model(\"../Training/dnn_model\")"
   ]
  },
  {
   "cell_type": "code",
   "execution_count": null,
   "metadata": {},
   "outputs": [],
   "source": [
    "dnn_model.summary()"
   ]
  },
  {
   "cell_type": "code",
   "execution_count": null,
   "metadata": {},
   "outputs": [],
   "source": [
    "et_model = pickle.load(open(\"et_2.sav\", 'rb'))"
   ]
  },
  {
   "cell_type": "code",
   "execution_count": null,
   "metadata": {},
   "outputs": [],
   "source": [
    "chunk = 0\n",
    "start = angles[angles.breaks ==1].index[chunk]\n",
    "finish = angles[angles.breaks ==1].index[chunk+1]\n",
    "angles_to_predict = angles.iloc[range(start, finish)]"
   ]
  },
  {
   "cell_type": "code",
   "execution_count": null,
   "metadata": {},
   "outputs": [],
   "source": [
    "angles_to_predict = angles"
   ]
  },
  {
   "cell_type": "code",
   "execution_count": null,
   "metadata": {},
   "outputs": [],
   "source": [
    "angles_to_predict"
   ]
  },
  {
   "cell_type": "code",
   "execution_count": null,
   "metadata": {},
   "outputs": [],
   "source": [
    "peaks = get_peaks.states(angles_to_predict[\"avg_angles\"])\n",
    "angles_to_predict[\"consec\"] = range(angles_to_predict.shape[0])\n",
    "angles_to_predict = angles_to_predict.merge(peaks, on=\"consec\", how=\"left\").fillna(0)"
   ]
  },
  {
   "cell_type": "code",
   "execution_count": null,
   "metadata": {},
   "outputs": [],
   "source": [
    "fig = go.Figure()\n",
    "fig.add_scatter(x = angles_to_predict.time/1000, y = angles_to_predict.avg_angles, mode = \"lines\", name = \"motion wave\")\n",
    "fig.add_scatter(x = angles_to_predict.loc[angles_to_predict[\"value\"] !=0 ][\"time\"]/1000, y = angles_to_predict.loc[angles_to_predict[\"value\"] !=0 ][\"avg_angles\"], mode = \"markers\", name = \"exercise states\")\n",
    "fig.show()"
   ]
  },
  {
   "cell_type": "code",
   "execution_count": null,
   "metadata": {},
   "outputs": [],
   "source": [
    "peaks = angles_to_predict.loc[angles_to_predict.type == \"peak\"]\n",
    "peaks.columns = peaks.columns+\"_peaks\"\n",
    "valleys = angles_to_predict.loc[angles_to_predict.type == \"valley\"]\n",
    "valleys.columns = valleys.columns+\"_valleys\"\n",
    "cross_train_data = peaks.merge(right = valleys, how=\"cross\")"
   ]
  },
  {
   "cell_type": "code",
   "execution_count": null,
   "metadata": {},
   "outputs": [],
   "source": [
    "cross_train_data"
   ]
  },
  {
   "cell_type": "code",
   "execution_count": null,
   "metadata": {},
   "outputs": [],
   "source": [
    "#normalización de variables peaks\n",
    "cross_train_data[\"elbow_angles_norm_peaks\"] = (cross_train_data[\"elbow_angles_peaks\"]/180)\n",
    "cross_train_data[\"elbow_angles2_norm_peaks\"] = (cross_train_data[\"elbow_angles2_peaks\"]/180)\n",
    "cross_train_data[\"armpit_angles_norm_peaks\"] = (cross_train_data[\"armpit_angles_peaks\"]/180)\n",
    "cross_train_data[\"armpit_angles2_norm_peaks\"] = (cross_train_data[\"armpit_angles2_peaks\"]/180)\n",
    "cross_train_data[\"legs_angles_norm_peaks\"] = (cross_train_data[\"legs_angles_peaks\"]/180)\n",
    "cross_train_data[\"legs_angles2_norm_peaks\"] = (cross_train_data[\"legs_angles2_peaks\"]/180) \n",
    "cross_train_data[\"back_angles_norm_peaks\"] = (cross_train_data[\"back_angles_peaks\"]/180)\n",
    "cross_train_data[\"back_angles2_norm_peaks\"] = (cross_train_data[\"back_angles2_peaks\"]/180)\n",
    "\n",
    "#normalización de variables valleys\n",
    "cross_train_data[\"elbow_angles_norm_valleys\"] = (cross_train_data[\"elbow_angles_valleys\"]/180)\n",
    "cross_train_data[\"elbow_angles2_norm_valleys\"] = (cross_train_data[\"elbow_angles2_valleys\"]/180)\n",
    "cross_train_data[\"armpit_angles_norm_valleys\"] = (cross_train_data[\"armpit_angles_valleys\"]/180)\n",
    "cross_train_data[\"armpit_angles2_norm_valleys\"] = (cross_train_data[\"armpit_angles2_valleys\"]/180)\n",
    "cross_train_data[\"legs_angles_norm_valleys\"] = (cross_train_data[\"legs_angles_valleys\"]/180)\n",
    "cross_train_data[\"legs_angles2_norm_valleys\"] = (cross_train_data[\"legs_angles2_valleys\"]/180) \n",
    "cross_train_data[\"back_angles_norm_valleys\"] = (cross_train_data[\"back_angles_valleys\"]/180)\n",
    "cross_train_data[\"back_angles2_norm_valleys\"] = (cross_train_data[\"back_angles2_valleys\"]/180)\n"
   ]
  },
  {
   "cell_type": "code",
   "execution_count": null,
   "metadata": {},
   "outputs": [],
   "source": [
    "to_predict = cross_train_data.loc[:,[\"elbow_angles_norm_peaks\",\n",
    "                                                                \"elbow_angles_peaks\",\n",
    "                                                                \"elbow_angles2_norm_peaks\",\n",
    "                                                                \"elbow_angles2_peaks\",\n",
    "                                                                \"armpit_angles_norm_peaks\",\n",
    "                                                                \"armpit_angles_peaks\",\n",
    "                                                                \"armpit_angles2_norm_peaks\",\n",
    "                                                                \"armpit_angles2_peaks\",\n",
    "                                                                \"legs_angles_norm_peaks\",\n",
    "                                                                \"legs_angles_peaks\",\n",
    "                                                                \"legs_angles2_norm_peaks\",\n",
    "                                                                \"legs_angles2_peaks\",\n",
    "                                                                \"back_angles_norm_peaks\",\n",
    "                                                                \"back_angles_peaks\",\n",
    "                                                                \"back_angles2_norm_peaks\",\n",
    "                                                                \"back_angles2_peaks\",\n",
    "                                                                \"elbow_angles_norm_valleys\",\n",
    "                                                                \"elbow_angles_valleys\",\n",
    "                                                                \"elbow_angles2_norm_valleys\",\n",
    "                                                                \"elbow_angles2_valleys\",\n",
    "                                                                \"armpit_angles_norm_valleys\",\n",
    "                                                                \"armpit_angles_valleys\",\n",
    "                                                                \"armpit_angles2_norm_valleys\",\n",
    "                                                                \"armpit_angles2_valleys\",\n",
    "                                                                \"legs_angles_norm_valleys\",\n",
    "                                                                \"legs_angles_valleys\",\n",
    "                                                                \"legs_angles2_norm_valleys\",\n",
    "                                                                \"legs_angles2_valleys\",\n",
    "                                                                \"back_angles_norm_valleys\",\n",
    "                                                                \"back_angles_valleys\",\n",
    "                                                                \"back_angles2_norm_valleys\",\n",
    "                                                                \"back_angles2_valleys\",\n",
    "                                                                \"slope_peaks\",\n",
    "                                                                \"slope_valleys\"]]"
   ]
  },
  {
   "cell_type": "code",
   "execution_count": null,
   "metadata": {},
   "outputs": [],
   "source": [
    "predictions = dnn_model.predict(to_predict)"
   ]
  },
  {
   "cell_type": "code",
   "execution_count": null,
   "metadata": {},
   "outputs": [],
   "source": [
    "#import pickle\n",
    "labels = pickle.load(open(\"../Training/label_dict.sav\", 'rb'))"
   ]
  },
  {
   "cell_type": "code",
   "execution_count": null,
   "metadata": {},
   "outputs": [],
   "source": [
    "inverse_labels = {v: k for k, v in labels.items()}"
   ]
  },
  {
   "cell_type": "code",
   "execution_count": null,
   "metadata": {},
   "outputs": [],
   "source": [
    "class_prediction = []\n",
    "for i in range(len(predictions)):\n",
    "    class_prediction.append(inverse_labels[np.argmax(predictions[i])])"
   ]
  },
  {
   "cell_type": "code",
   "execution_count": null,
   "metadata": {},
   "outputs": [],
   "source": [
    "class_prediction"
   ]
  },
  {
   "cell_type": "code",
   "execution_count": null,
   "metadata": {},
   "outputs": [],
   "source": [
    "import statistics"
   ]
  },
  {
   "cell_type": "code",
   "execution_count": null,
   "metadata": {},
   "outputs": [],
   "source": [
    "statistics.mode(class_prediction)"
   ]
  },
  {
   "cell_type": "code",
   "execution_count": null,
   "metadata": {},
   "outputs": [],
   "source": [
    "et_model.predict(to_predict)"
   ]
  },
  {
   "cell_type": "code",
   "execution_count": null,
   "metadata": {},
   "outputs": [],
   "source": []
  }
 ],
 "metadata": {
  "kernelspec": {
   "display_name": "venv",
   "language": "python",
   "name": "python3"
  },
  "language_info": {
   "codemirror_mode": {
    "name": "ipython",
    "version": 3
   },
   "file_extension": ".py",
   "mimetype": "text/x-python",
   "name": "python",
   "nbconvert_exporter": "python",
   "pygments_lexer": "ipython3",
   "version": "3.10.5"
  },
  "orig_nbformat": 4,
  "vscode": {
   "interpreter": {
    "hash": "5db5c5b4bdde3f08a8e40f5b2e922a9b420653d2f7699c5b1032865b37e81f77"
   }
  }
 },
 "nbformat": 4,
 "nbformat_minor": 2
}
