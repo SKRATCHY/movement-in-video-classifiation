{
 "cells": [
  {
   "cell_type": "code",
   "execution_count": null,
   "id": "62822b35",
   "metadata": {},
   "outputs": [],
   "source": [
    "#from sklearn.neighbors import KNeighborsClassifier\n",
    "import pandas as pd\n",
    "import numpy as np\n",
    "#from sklearn.model_selection import train_test_split\n",
    "import os\n",
    "#from sklearn.model_selection import cross_val_score\n",
    "import statistics\n",
    "import plotly.graph_objects as go\n",
    "import plotly.offline as pyo\n",
    "pyo.init_notebook_mode()"
   ]
  },
  {
   "cell_type": "code",
   "execution_count": null,
   "id": "c3d06cc0",
   "metadata": {},
   "outputs": [],
   "source": [
    "train_data = pd.read_csv(\"exercise_train_data.csv\")"
   ]
  },
  {
   "cell_type": "code",
   "execution_count": null,
   "id": "c4ebf0ae",
   "metadata": {},
   "outputs": [],
   "source": [
    "#dom_train_data = train_data[[not valor for valor in train_data.video_name.isna()]]\n",
    "dom_train_data = train_data\n",
    "#dom_train_data = train_data[[valor for valor in train_data.video_name.isna()]]"
   ]
  },
  {
   "cell_type": "code",
   "execution_count": null,
   "id": "b50c9f23",
   "metadata": {},
   "outputs": [],
   "source": [
    "print(len(dom_train_data.name.unique()))\n",
    "dom_train_data.name.unique()"
   ]
  },
  {
   "cell_type": "code",
   "execution_count": null,
   "id": "862e98cf",
   "metadata": {},
   "outputs": [],
   "source": [
    "dom_train_data.value_counts(subset=\"name\")"
   ]
  },
  {
   "cell_type": "code",
   "execution_count": null,
   "id": "c2d3b477",
   "metadata": {},
   "outputs": [],
   "source": [
    "peaks = dom_train_data.loc[dom_train_data.type == \"peak\"]\n",
    "peaks.columns = peaks.columns+\"_peaks\"\n",
    "valleys = dom_train_data.loc[dom_train_data.type == \"valley\"]\n",
    "valleys.columns = valleys.columns+\"_valleys\"\n",
    "cross_train_data = peaks.merge(right = valleys, left_on=[\"video_name_peaks\", \"name_peaks\"], right_on=[\"video_name_valleys\",\"name_valleys\"], how=\"inner\")"
   ]
  },
  {
   "cell_type": "code",
   "execution_count": null,
   "id": "75022603",
   "metadata": {},
   "outputs": [],
   "source": [
    "#normalización de variables peaks\n",
    "cross_train_data[\"elbow_angles_norm_peaks\"] = (cross_train_data[\"elbow_angles_peaks\"]/180)\n",
    "cross_train_data[\"elbow_angles2_norm_peaks\"] = (cross_train_data[\"elbow_angles2_peaks\"]/180)\n",
    "cross_train_data[\"armpit_angles_norm_peaks\"] = (cross_train_data[\"armpit_angles_peaks\"]/180)\n",
    "cross_train_data[\"armpit_angles2_norm_peaks\"] = (cross_train_data[\"armpit_angles2_peaks\"]/180)\n",
    "cross_train_data[\"legs_angles_norm_peaks\"] = (cross_train_data[\"legs_angles_peaks\"]/180)\n",
    "cross_train_data[\"legs_angles2_norm_peaks\"] = (cross_train_data[\"legs_angles2_peaks\"]/180) \n",
    "cross_train_data[\"back_angles_norm_peaks\"] = (cross_train_data[\"back_angles_peaks\"]/180)\n",
    "cross_train_data[\"back_angles2_norm_peaks\"] = (cross_train_data[\"back_angles2_peaks\"]/180)\n",
    "\n",
    "#normalización de variables valleys\n",
    "cross_train_data[\"elbow_angles_norm_valleys\"] = (cross_train_data[\"elbow_angles_valleys\"]/180)\n",
    "cross_train_data[\"elbow_angles2_norm_valleys\"] = (cross_train_data[\"elbow_angles2_valleys\"]/180)\n",
    "cross_train_data[\"armpit_angles_norm_valleys\"] = (cross_train_data[\"armpit_angles_valleys\"]/180)\n",
    "cross_train_data[\"armpit_angles2_norm_valleys\"] = (cross_train_data[\"armpit_angles2_valleys\"]/180)\n",
    "cross_train_data[\"legs_angles_norm_valleys\"] = (cross_train_data[\"legs_angles_valleys\"]/180)\n",
    "cross_train_data[\"legs_angles2_norm_valleys\"] = (cross_train_data[\"legs_angles2_valleys\"]/180) \n",
    "cross_train_data[\"back_angles_norm_valleys\"] = (cross_train_data[\"back_angles_valleys\"]/180)\n",
    "cross_train_data[\"back_angles2_norm_valleys\"] = (cross_train_data[\"back_angles2_valleys\"]/180)\n"
   ]
  },
  {
   "cell_type": "markdown",
   "id": "5a9a2339",
   "metadata": {},
   "source": [
    "# KNN"
   ]
  },
  {
   "cell_type": "code",
   "execution_count": null,
   "id": "6f37b6f2",
   "metadata": {},
   "outputs": [],
   "source": [
    "X = cross_train_data.loc[:,[\"elbow_angles_norm_peaks\",\n",
    "                            \"elbow_angles2_norm_peaks\",\n",
    "                            \"armpit_angles_norm_peaks\",\n",
    "                            \"armpit_angles2_norm_peaks\",\n",
    "                            \"legs_angles_norm_peaks\",\n",
    "                            \"legs_angles2_norm_peaks\",\n",
    "                            \"back_angles_norm_peaks\",\n",
    "                            \"back_angles2_norm_peaks\",\n",
    "                            \"elbow_angles_norm_valleys\",\n",
    "                            \"elbow_angles2_norm_valleys\",\n",
    "                            \"armpit_angles_norm_valleys\",\n",
    "                            \"armpit_angles2_norm_valleys\",\n",
    "                            \"legs_angles_norm_valleys\",\n",
    "                            \"legs_angles2_norm_valleys\",\n",
    "                            \"back_angles_norm_valleys\",\n",
    "                            \"back_angles2_norm_valleys\",\n",
    "                            \"slope_peaks\",\n",
    "                            \"slope_valleys\"]]\n",
    "y = cross_train_data[\"name_peaks\"]\n",
    "X_train, X_test, y_train, y_test = train_test_split(X, y, test_size=0.3)"
   ]
  },
  {
   "cell_type": "code",
   "execution_count": null,
   "id": "0397874e",
   "metadata": {},
   "outputs": [],
   "source": [
    "X"
   ]
  },
  {
   "cell_type": "code",
   "execution_count": null,
   "id": "0d8bf03f",
   "metadata": {},
   "outputs": [],
   "source": [
    "#num_exercises = train_data.exercise.unique().shape[0]\n",
    "knn = KNeighborsClassifier()"
   ]
  },
  {
   "cell_type": "code",
   "execution_count": null,
   "id": "3149c781",
   "metadata": {},
   "outputs": [],
   "source": [
    "knn.fit(X_train,y_train)"
   ]
  },
  {
   "cell_type": "code",
   "execution_count": null,
   "id": "b77f8f2a",
   "metadata": {},
   "outputs": [],
   "source": [
    "knn.score(X_test,y_test)"
   ]
  },
  {
   "cell_type": "code",
   "execution_count": null,
   "id": "9707d5c7",
   "metadata": {},
   "outputs": [],
   "source": [
    "cross_val_score(knn, X,y, scoring=\"accuracy\")"
   ]
  },
  {
   "cell_type": "code",
   "execution_count": null,
   "id": "ab27f141",
   "metadata": {},
   "outputs": [],
   "source": [
    "# Hiperparámetros compartidos por Maria:\n",
    "knn = KNeighborsClassifier(algorithm= 'auto', leaf_size= 15, metric= 'manhattan', n_neighbors= 1, weights= 'uniform')\n",
    "knn.fit(X = X_train, y = y_train)\n",
    "print(knn.score(X_test,y_test))\n",
    "print(cross_val_score(knn, X,y))\n"
   ]
  },
  {
   "attachments": {},
   "cell_type": "markdown",
   "id": "0d057a56",
   "metadata": {},
   "source": [
    "# KNN Test"
   ]
  },
  {
   "cell_type": "code",
   "execution_count": null,
   "id": "de3be5b7",
   "metadata": {},
   "outputs": [],
   "source": [
    "squat_dom = train_data[[not valor for valor in train_data.video_name.isna()]]\n",
    "squat_dom = squat_dom[squat_dom.name == \"squat\"]"
   ]
  },
  {
   "cell_type": "code",
   "execution_count": null,
   "id": "a11ac897",
   "metadata": {},
   "outputs": [],
   "source": [
    "squat_dom"
   ]
  },
  {
   "cell_type": "code",
   "execution_count": null,
   "id": "35a6fb45",
   "metadata": {},
   "outputs": [],
   "source": [
    "squat_dom[\"elbow_angles_norm\"] = squat_dom[\"elbow_angles\"]/np.max(squat_dom[\"elbow_angles\"])\n",
    "squat_dom[\"elbow_angles2_norm\"] = squat_dom[\"elbow_angles2\"]/np.max(squat_dom[\"elbow_angles2\"])\n",
    "squat_dom[\"armpit_angles_norm\"] = squat_dom[\"armpit_angles\"]/np.max(squat_dom[\"armpit_angles\"])\n",
    "squat_dom[\"armpit_angles2_norm\"] = squat_dom[\"armpit_angles2\"]/np.max(squat_dom[\"armpit_angles2\"])\n",
    "squat_dom[\"legs_angles_norm\"] = squat_dom[\"legs_angles\"]/np.max(squat_dom[\"legs_angles\"])\n",
    "squat_dom[\"legs_angles2_norm\"] = squat_dom[\"legs_angles2\"]/np.max(squat_dom[\"legs_angles2\"])\n",
    "squat_dom[\"back_angles_norm\"] = squat_dom[\"back_angles\"]/np.max(squat_dom[\"back_angles\"])\n",
    "squat_dom[\"back_angles2_norm\"] = squat_dom[\"back_angles2\"]/np.max(squat_dom[\"back_angles2\"])\n"
   ]
  },
  {
   "cell_type": "code",
   "execution_count": null,
   "id": "961f89e4",
   "metadata": {},
   "outputs": [],
   "source": [
    "prediction = knn.predict(squat_dom.loc[:,[\"back_angles_norm\",\"back_angles2_norm\",\"legs_angles_norm\",\"legs_angles2_norm\",\"armpit_angles_norm\",\"armpit_angles2_norm\",\"elbow_angles_norm\",\"elbow_angles2_norm\", \"orientation_bool\"]])"
   ]
  },
  {
   "cell_type": "code",
   "execution_count": null,
   "id": "75ec9196",
   "metadata": {},
   "outputs": [],
   "source": [
    "prediction"
   ]
  },
  {
   "cell_type": "code",
   "execution_count": null,
   "id": "4233cbf4",
   "metadata": {},
   "outputs": [],
   "source": [
    "statistics.mode(prediction)"
   ]
  },
  {
   "cell_type": "markdown",
   "id": "452024c0",
   "metadata": {},
   "source": [
    "# Trees"
   ]
  },
  {
   "cell_type": "code",
   "execution_count": null,
   "id": "f9609934",
   "metadata": {},
   "outputs": [],
   "source": [
    "from sklearn.tree import DecisionTreeClassifier\n",
    "from sklearn.ensemble import ExtraTreesClassifier\n",
    "from sklearn.ensemble import RandomForestClassifier"
   ]
  },
  {
   "cell_type": "code",
   "execution_count": null,
   "id": "e8c1a6b6",
   "metadata": {},
   "outputs": [],
   "source": [
    "dt = DecisionTreeClassifier()\n",
    "rf = RandomForestClassifier()\n",
    "et = ExtraTreesClassifier()\n",
    "dt.fit(X_train,y_train)\n",
    "rf.fit(X_train,y_train)\n",
    "et.fit(X_train,y_train)\n",
    "print(\"dt: \",dt.score(X_test,y_test))\n",
    "print(\"rf: \",rf.score(X_test,y_test))\n",
    "print(\"et: \",et.score(X_test,y_test))\n",
    "print(\"dt: \",cross_val_score(dt,X,y))\n",
    "print(\"rf: \",cross_val_score(rf,X,y))\n",
    "print(\"et: \",cross_val_score(et,X,y))"
   ]
  },
  {
   "cell_type": "code",
   "execution_count": null,
   "id": "d170c93e",
   "metadata": {},
   "outputs": [],
   "source": [
    "# Parametros de Maria\n",
    "dt = DecisionTreeClassifier(criterion= 'entropy', max_depth= 6, max_leaf_nodes= 58, min_samples_split= 2)\n",
    "rf = RandomForestClassifier(max_depth = 5, min_samples_leaf = 1, min_samples_split = 2, n_estimators = 300)\n",
    "et = ExtraTreesClassifier(max_leaf_nodes= 33, min_samples_split= 2, n_estimators= 90)\n",
    "dt.fit(X_train,y_train)\n",
    "rf.fit(X_train,y_train)\n",
    "et.fit(X_train,y_train)\n",
    "#dt.fit(X,y)\n",
    "#rf.fit(X,y)\n",
    "#et.fit(X,y)\n",
    "print(\"dt: \",dt.score(X_test,y_test))\n",
    "print(\"rf: \",rf.score(X_test,y_test))\n",
    "print(\"et: \",et.score(X_test,y_test))\n",
    "print(\"dt: \",cross_val_score(dt,X,y))\n",
    "print(\"rf: \",cross_val_score(rf,X,y))\n",
    "print(\"et: \",cross_val_score(et,X,y))"
   ]
  },
  {
   "cell_type": "code",
   "execution_count": null,
   "id": "aef502f6",
   "metadata": {},
   "outputs": [],
   "source": []
  },
  {
   "attachments": {},
   "cell_type": "markdown",
   "id": "4154a9e6",
   "metadata": {},
   "source": [
    "# DNN"
   ]
  },
  {
   "cell_type": "code",
   "execution_count": null,
   "id": "8052d6ef",
   "metadata": {},
   "outputs": [],
   "source": [
    "from tensorflow import keras\n",
    "from keras import regularizers"
   ]
  },
  {
   "cell_type": "code",
   "execution_count": null,
   "id": "25104286",
   "metadata": {},
   "outputs": [],
   "source": [
    "X = cross_train_data.loc[:,[\"elbow_angles_norm_peaks\",\n",
    "                            \"elbow_angles2_norm_peaks\",\n",
    "                            \"armpit_angles_norm_peaks\",\n",
    "                            \"armpit_angles2_norm_peaks\",\n",
    "                            \"legs_angles_norm_peaks\",\n",
    "                            \"legs_angles2_norm_peaks\",\n",
    "                            \"back_angles_norm_peaks\",\n",
    "                            \"back_angles2_norm_peaks\",\n",
    "                            \"elbow_angles_norm_valleys\",\n",
    "                            \"elbow_angles2_norm_valleys\",\n",
    "                            \"armpit_angles_norm_valleys\",\n",
    "                            \"armpit_angles2_norm_valleys\",\n",
    "                            \"legs_angles_norm_valleys\",\n",
    "                            \"legs_angles2_norm_valleys\",\n",
    "                            \"back_angles_norm_valleys\",\n",
    "                            \"back_angles2_norm_valleys\",\n",
    "                            \"slope_peaks\",\n",
    "                            \"slope_valleys\"]]\n",
    "y = cross_train_data[\"name_peaks\"]\n",
    "X_train, X_test, y_train, y_test = train_test_split(X, y, test_size=0.15)"
   ]
  },
  {
   "cell_type": "code",
   "execution_count": null,
   "id": "cd26b88b",
   "metadata": {},
   "outputs": [],
   "source": [
    "y"
   ]
  },
  {
   "cell_type": "code",
   "execution_count": null,
   "id": "3021f501",
   "metadata": {},
   "outputs": [],
   "source": [
    "dnn_model = keras.models.Sequential([\n",
    "                                keras.layers.Dense(512,activation='relu',input_shape=(X.shape[1],)),\n",
    "                                keras.layers.BatchNormalization(),\n",
    "                                keras.layers.Dropout(.3),\n",
    "                                keras.layers.Dense(256, activation='relu', activity_regularizer=regularizers.l1(1e-4)),\n",
    "                                keras.layers.BatchNormalization(),\n",
    "                                keras.layers.Dropout(.2),\n",
    "                                keras.layers.Dense(128, activation='relu'),               \n",
    "                                keras.layers.BatchNormalization(),       \n",
    "                                keras.layers.Dropout(.3),\n",
    "                                keras.layers.Dense(64, activation='relu'),\n",
    "                                keras.layers.BatchNormalization(),\n",
    "                                keras.layers.Dense(32, activation='relu'),\n",
    "                                keras.layers.Dense(5, activation='softmax')\n",
    "                                ]\n",
    ")"
   ]
  },
  {
   "cell_type": "code",
   "execution_count": null,
   "id": "a90730e0",
   "metadata": {},
   "outputs": [],
   "source": [
    "dnn_model.compile(loss='categorical_crossentropy', optimizer='nadam', metrics=['categorical_accuracy'])"
   ]
  },
  {
   "cell_type": "markdown",
   "id": "7750562f",
   "metadata": {},
   "source": [
    "# Y_conversion"
   ]
  },
  {
   "cell_type": "code",
   "execution_count": null,
   "id": "40790fee",
   "metadata": {},
   "outputs": [],
   "source": [
    "y_dict = []\n",
    "for i in range(len(y.unique())):\n",
    "    y_dict.append([y.unique()[i], i])\n",
    "\n",
    "y_dict = dict(y_dict)\n",
    "\n",
    "y_true = []\n",
    "for i in range(len(y)):\n",
    "    y_true.append([y[i], y_dict[y[i]]])\n",
    "    \n",
    "y_true = [y_true, keras.utils.to_categorical(pd.DataFrame(y_true)[1], dtype=\"int32\")]"
   ]
  },
  {
   "cell_type": "code",
   "execution_count": null,
   "id": "8043dbd8",
   "metadata": {},
   "outputs": [],
   "source": [
    "y_dict"
   ]
  },
  {
   "cell_type": "code",
   "execution_count": null,
   "id": "7260ffc4",
   "metadata": {},
   "outputs": [],
   "source": [
    "y_true_not_encoded = pd.DataFrame(y_true[0])[1]\n",
    "y_true_encoded = y_true[1]"
   ]
  },
  {
   "cell_type": "code",
   "execution_count": null,
   "id": "c0b786d5",
   "metadata": {},
   "outputs": [],
   "source": [
    "y_true_encoded"
   ]
  },
  {
   "cell_type": "code",
   "execution_count": null,
   "id": "9410b4ea",
   "metadata": {},
   "outputs": [],
   "source": [
    "dnn_model.summary()"
   ]
  },
  {
   "attachments": {},
   "cell_type": "markdown",
   "id": "0f7c7555",
   "metadata": {},
   "source": [
    "# Testing"
   ]
  },
  {
   "cell_type": "code",
   "execution_count": null,
   "id": "07dc537d",
   "metadata": {},
   "outputs": [],
   "source": [
    "y_train_true = []\n",
    "for i in y_train:\n",
    "    y_train_true.append([i, y_dict[i]])\n",
    "    \n",
    "y_train_true = [y_train_true, keras.utils.to_categorical(pd.DataFrame(y_train_true)[1], dtype=\"int32\")]\n",
    "\n",
    "y_test_true = []\n",
    "for i in y_test:\n",
    "    y_test_true.append([i, y_dict[i]])\n",
    "    \n",
    "y_test_true = [y_test_true, keras.utils.to_categorical(pd.DataFrame(y_test_true)[1], dtype=\"int32\")]"
   ]
  },
  {
   "cell_type": "code",
   "execution_count": null,
   "id": "98cbbc27",
   "metadata": {},
   "outputs": [],
   "source": [
    "dnn_model.fit(X, y_true_encoded, validation_split=.2, batch_size=30, epochs=100)"
   ]
  },
  {
   "cell_type": "code",
   "execution_count": null,
   "id": "14e95abe",
   "metadata": {},
   "outputs": [],
   "source": [
    "fig = go.Figure()\n",
    "try:\n",
    "    fig.add_scatter(y = dnn_model.history.history[\"val_sparse_categorical_accuracy\"], name = \"Validation\")\n",
    "    fig.add_scatter(y = dnn_model.history.history[\"sparse_categorical_accuracy\"], name = \"Training\")\n",
    "except:\n",
    "    fig.add_scatter(y = dnn_model.history.history[\"val_categorical_accuracy\"], name = \"Validation\")\n",
    "    fig.add_scatter(y = dnn_model.history.history[\"categorical_accuracy\"], name = \"Training\")\n",
    "fig.show()"
   ]
  },
  {
   "cell_type": "code",
   "execution_count": null,
   "id": "05f82a5f",
   "metadata": {},
   "outputs": [],
   "source": [
    "dnn_model.save(\"dnn_model\")"
   ]
  },
  {
   "cell_type": "code",
   "execution_count": null,
   "id": "b9ab5031",
   "metadata": {},
   "outputs": [],
   "source": [
    "keras.models.load_model(\"dnn_model\")"
   ]
  },
  {
   "cell_type": "code",
   "execution_count": null,
   "id": "93c60752",
   "metadata": {},
   "outputs": [],
   "source": [
    "import pickle\n",
    "pickle.dump(knn, open(\"knn_model.sav\", 'wb'))\n",
    "et.fit(X,y)\n",
    "pickle.dump(et, open(\"et_2.sav\", 'wb'))"
   ]
  },
  {
   "cell_type": "code",
   "execution_count": null,
   "id": "1ceeb6e8",
   "metadata": {},
   "outputs": [],
   "source": [
    "pickle.dump(y_dict, open(\"label_dict.sav\", \"wb\"))"
   ]
  },
  {
   "cell_type": "code",
   "execution_count": null,
   "id": "83e6e050",
   "metadata": {},
   "outputs": [],
   "source": []
  }
 ],
 "metadata": {
  "kernelspec": {
   "display_name": "venv",
   "language": "python",
   "name": "python3"
  },
  "language_info": {
   "codemirror_mode": {
    "name": "ipython",
    "version": 3
   },
   "file_extension": ".py",
   "mimetype": "text/x-python",
   "name": "python",
   "nbconvert_exporter": "python",
   "pygments_lexer": "ipython3",
   "version": "3.10.5"
  },
  "vscode": {
   "interpreter": {
    "hash": "5db5c5b4bdde3f08a8e40f5b2e922a9b420653d2f7699c5b1032865b37e81f77"
   }
  }
 },
 "nbformat": 4,
 "nbformat_minor": 5
}
