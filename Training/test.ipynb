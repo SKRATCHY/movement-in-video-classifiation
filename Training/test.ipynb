{
 "cells": [
  {
   "cell_type": "code",
   "execution_count": null,
   "metadata": {},
   "outputs": [],
   "source": [
    "import plotly.graph_objects as go\n",
    "import pandas as pd\n",
    "import cv2\n",
    "import get_peaks\n",
    "import ruptures as rpt\n",
    "from angles_detection import generate_angles_output_with_time\n",
    "import numpy as np\n",
    "\n",
    "import plotly.offline as ploff\n",
    "ploff.init_notebook_mode()"
   ]
  },
  {
   "cell_type": "code",
   "execution_count": null,
   "metadata": {},
   "outputs": [],
   "source": [
    "angles = pd.DataFrame(generate_angles_output_with_time(cv2.VideoCapture(\"../testVideos/IMG_0358.MOV\")))"
   ]
  },
  {
   "cell_type": "code",
   "execution_count": null,
   "metadata": {},
   "outputs": [],
   "source": [
    "angles"
   ]
  },
  {
   "cell_type": "code",
   "execution_count": null,
   "metadata": {},
   "outputs": [],
   "source": [
    "angles = angles.sort_values(by=\"time\")"
   ]
  },
  {
   "cell_type": "code",
   "execution_count": null,
   "metadata": {},
   "outputs": [],
   "source": [
    "angles[\"avg_angles\"] = get_peaks.calculate_avg_angles(angles)"
   ]
  },
  {
   "cell_type": "code",
   "execution_count": null,
   "metadata": {},
   "outputs": [],
   "source": [
    "fig = go.Figure()\n",
    "fig.add_scatter(x = angles.time/1000, y = angles.avg_angles * [(num*2)-1 for num in angles.slope])\n",
    "#fig.add_scatter(x = angles.time/1000, y = angles.avg_angles * [(num*2)-1 for num in angles.orientation])"
   ]
  },
  {
   "cell_type": "code",
   "execution_count": null,
   "metadata": {},
   "outputs": [],
   "source": [
    "from IPython.display import Image, Video"
   ]
  },
  {
   "cell_type": "code",
   "execution_count": null,
   "metadata": {},
   "outputs": [],
   "source": [
    "video = \"../testVideos/IMG_0358.MOV\""
   ]
  },
  {
   "cell_type": "code",
   "execution_count": null,
   "metadata": {},
   "outputs": [],
   "source": [
    "Video(video)"
   ]
  },
  {
   "cell_type": "code",
   "execution_count": null,
   "metadata": {},
   "outputs": [],
   "source": [
    "angles = angles.sort_values(by=\"time\").reset_index(drop=True)"
   ]
  },
  {
   "cell_type": "code",
   "execution_count": null,
   "metadata": {},
   "outputs": [],
   "source": [
    "angles[\"avg_angles\"] = get_peaks.calculate_avg_angles(angles)"
   ]
  },
  {
   "cell_type": "code",
   "execution_count": null,
   "metadata": {},
   "outputs": [],
   "source": [
    "fig = go.Figure()\n",
    "fig.add_scatter(x = angles[\"time\"]/1000, y = angles.avg_angles*angles.orientation)"
   ]
  },
  {
   "cell_type": "code",
   "execution_count": null,
   "metadata": {},
   "outputs": [],
   "source": [
    "angles[\"avg_angles_oriented\"] = angles.avg_angles*angles.orientation"
   ]
  },
  {
   "cell_type": "code",
   "execution_count": null,
   "metadata": {},
   "outputs": [],
   "source": [
    "angles"
   ]
  },
  {
   "cell_type": "code",
   "execution_count": null,
   "metadata": {},
   "outputs": [],
   "source": [
    "algo = rpt.Pelt(model=\"rbf\").fit(pd.DataFrame(angles.avg_angles_oriented))\n",
    "result = algo.predict(pen=20) "
   ]
  },
  {
   "cell_type": "code",
   "execution_count": null,
   "metadata": {},
   "outputs": [],
   "source": [
    "angles[\"breaks\"] = 0\n",
    "for i in result:\n",
    "    if i < angles.shape[0]:\n",
    "        angles[\"breaks\"][i] = 1"
   ]
  },
  {
   "cell_type": "code",
   "execution_count": null,
   "metadata": {},
   "outputs": [],
   "source": [
    "angles"
   ]
  },
  {
   "cell_type": "code",
   "execution_count": null,
   "metadata": {},
   "outputs": [],
   "source": [
    "fig = go.Figure()\n",
    "fig.add_scatter(x = angles[\"time\"]/1000, y = angles.avg_angles_oriented)\n",
    "for i in angles.loc[angles.breaks == 1].index:\n",
    "    print(i)\n",
    "    fig.add_vline(angles.iloc[i][\"time\"]/1000)\n",
    "fig.show()"
   ]
  },
  {
   "cell_type": "code",
   "execution_count": null,
   "metadata": {},
   "outputs": [],
   "source": [
    "datos = pd.read_csv(\"Complete 15 Min Full Body Workout  No Equipment_480p_angles.csv\")"
   ]
  },
  {
   "cell_type": "code",
   "execution_count": null,
   "metadata": {},
   "outputs": [],
   "source": [
    "fig = go.Figure()\n",
    "fig.add_trace(go.Scatter(x=(datos.time)/1000 , y = datos.avg_angles, mode = \"markers+lines\"))\n",
    "for i in datos[datos.breaks == 1].index:\n",
    "    fig.add_vline((datos.iloc[i].time)/1000)\n",
    "fig.show()"
   ]
  },
  {
   "cell_type": "code",
   "execution_count": null,
   "metadata": {},
   "outputs": [],
   "source": []
  }
 ],
 "metadata": {
  "kernelspec": {
   "display_name": "venv",
   "language": "python",
   "name": "python3"
  },
  "language_info": {
   "codemirror_mode": {
    "name": "ipython",
    "version": 3
   },
   "file_extension": ".py",
   "mimetype": "text/x-python",
   "name": "python",
   "nbconvert_exporter": "python",
   "pygments_lexer": "ipython3",
   "version": "3.10.5"
  },
  "orig_nbformat": 4,
  "vscode": {
   "interpreter": {
    "hash": "c90ac3cf23e3b90159543e7b7377df5364cad724c4cf03da5fe367558e2be788"
   }
  }
 },
 "nbformat": 4,
 "nbformat_minor": 2
}
